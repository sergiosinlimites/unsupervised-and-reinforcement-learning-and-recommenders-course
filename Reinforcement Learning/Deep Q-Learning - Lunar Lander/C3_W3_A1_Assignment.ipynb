{
 "cells": [
  {
   "cell_type": "markdown",
   "metadata": {},
   "source": [
    "# Deep Q-Learning - Lunar Lander\n",
    "\n",
    "In this assignment, you will train an agent to land a lunar lander safely on a landing pad on the surface of the moon.\n",
    "\n",
    "\n",
    "# Outline\n",
    "- [ 1 - Import Packages <img align=\"Right\" src=\"./images/lunar_lander.gif\" width = 60% >](#1)\n",
    "- [ 2 - Hyperparameters](#2)\n",
    "- [ 3 - The Lunar Lander Environment](#3)\n",
    "  - [ 3.1 Action Space](#3.1)\n",
    "  - [ 3.2 Observation Space](#3.2)\n",
    "  - [ 3.3 Rewards](#3.3)\n",
    "  - [ 3.4 Episode Termination](#3.4)\n",
    "- [ 4 - Load the Environment](#4)\n",
    "- [ 5 - Interacting with the Gym Environment](#5)\n",
    "    - [ 5.1 Exploring the Environment's Dynamics](#5.1)\n",
    "- [ 6 - Deep Q-Learning](#6)\n",
    "  - [ 6.1 Target Network](#6.1)\n",
    "    - [ Exercise 1](#ex01)\n",
    "  - [ 6.2 Experience Replay](#6.2)\n",
    "- [ 7 - Deep Q-Learning Algorithm with Experience Replay](#7)\n",
    "  - [ Exercise 2](#ex02)\n",
    "- [ 8 - Update the Network Weights](#8)\n",
    "- [ 9 - Train the Agent](#9)\n",
    "- [ 10 - See the Trained Agent In Action](#10)\n",
    "- [ 11 - Congratulations!](#11)\n",
    "- [ 12 - References](#12)\n"
   ]
  },
  {
   "cell_type": "markdown",
   "metadata": {},
   "source": [
    "_**NOTE:** To prevent errors from the autograder, you are not allowed to edit or delete non-graded cells in this lab. Please also refrain from adding any new cells. \n",
    "**Once you have passed this assignment** and want to experiment with any of the non-graded code, you may follow the instructions at the bottom of this notebook._"
   ]
  },
  {
   "cell_type": "markdown",
   "metadata": {},
   "source": [
    "<a name=\"1\"></a>\n",
    "## 1 - Import Packages\n",
    "\n",
    "We'll make use of the following packages:\n",
    "- `numpy` is a package for scientific computing in python.\n",
    "- `deque` will be our data structure for our memory buffer.\n",
    "- `namedtuple` will be used to store the experience tuples.\n",
    "- The `gym` toolkit is a collection of environments that can be used to test reinforcement learning algorithms. We should note that in this notebook we are using `gym` version `0.24.0`.\n",
    "- `PIL.Image` and `pyvirtualdisplay` are needed to render the Lunar Lander environment.\n",
    "- We will use several modules from the `tensorflow.keras` framework for building deep learning models.\n",
    "- `utils` is a module that contains helper functions for this assignment. You do not need to modify the code in this file.\n",
    "\n",
    "Run the cell below to import all the necessary packages."
   ]
  },
  {
   "cell_type": "code",
   "execution_count": 1,
   "metadata": {
    "deletable": false,
    "editable": false,
    "id": "KYbOPKRtfQOr"
   },
   "outputs": [],
   "source": [
    "import time\n",
    "from collections import deque, namedtuple\n",
    "\n",
    "import gym\n",
    "import numpy as np\n",
    "import PIL.Image\n",
    "import tensorflow as tf\n",
    "import utils\n",
    "\n",
    "from pyvirtualdisplay import Display\n",
    "from tensorflow.keras import Sequential\n",
    "from tensorflow.keras.layers import Dense, Input\n",
    "from tensorflow.keras.losses import MSE\n",
    "from tensorflow.keras.optimizers import Adam"
   ]
  },
  {
   "cell_type": "code",
   "execution_count": 2,
   "metadata": {
    "deletable": false,
    "editable": false
   },
   "outputs": [],
   "source": [
    "# Set up a virtual display to render the Lunar Lander environment.\n",
    "Display(visible=0, size=(840, 480)).start();\n",
    "\n",
    "# Set the random seed for TensorFlow\n",
    "tf.random.set_seed(utils.SEED)"
   ]
  },
  {
   "cell_type": "markdown",
   "metadata": {},
   "source": [
    "<a name=\"2\"></a>\n",
    "## 2 - Hyperparameters\n",
    "\n",
    "Run the cell below to set the hyperparameters."
   ]
  },
  {
   "cell_type": "code",
   "execution_count": 3,
   "metadata": {
    "deletable": false,
    "editable": false
   },
   "outputs": [],
   "source": [
    "MEMORY_SIZE = 100_000     # size of memory buffer\n",
    "GAMMA = 0.995             # discount factor\n",
    "ALPHA = 1e-3              # learning rate  \n",
    "NUM_STEPS_FOR_UPDATE = 4  # perform a learning update every C time steps"
   ]
  },
  {
   "cell_type": "markdown",
   "metadata": {},
   "source": [
    "<a name=\"3\"></a>\n",
    "## 3 - The Lunar Lander Environment\n",
    "\n",
    "In this notebook we will be using [OpenAI's Gym Library](https://www.gymlibrary.dev/). The Gym library provides a wide variety of environments for reinforcement learning. To put it simply, an environment represents a problem or task to be solved. In this notebook, we will try to solve the Lunar Lander environment using reinforcement learning.\n",
    "\n",
    "The goal of the Lunar Lander environment is to land the lunar lander safely on the landing pad on the surface of the moon. The landing pad is designated by two flag poles and its center is at coordinates `(0,0)` but the lander is also allowed to land outside of the landing pad. The lander starts at the top center of the environment with a random initial force applied to its center of mass and has infinite fuel. The environment is considered solved if you get `200` points. \n",
    "\n",
    "<br>\n",
    "<br>\n",
    "<figure>\n",
    "  <img src = \"images/lunar_lander.gif\" width = 40%>\n",
    "      <figcaption style = \"text-align: center; font-style: italic\">Fig 1. Lunar Lander Environment.</figcaption>\n",
    "</figure>\n",
    "\n",
    "\n",
    "\n",
    "<a name=\"3.1\"></a>\n",
    "### 3.1 Action Space\n",
    "\n",
    "The agent has four discrete actions available:\n",
    "\n",
    "* Do nothing.\n",
    "* Fire right engine.\n",
    "* Fire main engine.\n",
    "* Fire left engine.\n",
    "\n",
    "Each action has a corresponding numerical value:\n",
    "\n",
    "```python\n",
    "Do nothing = 0\n",
    "Fire right engine = 1\n",
    "Fire main engine = 2\n",
    "Fire left engine = 3\n",
    "```\n",
    "\n",
    "<a name=\"3.2\"></a>\n",
    "### 3.2 Observation Space\n",
    "\n",
    "The agent's observation space consists of a state vector with 8 variables:\n",
    "\n",
    "* Its $(x,y)$ coordinates. The landing pad is always at coordinates $(0,0)$.\n",
    "* Its linear velocities $(\\dot x,\\dot y)$.\n",
    "* Its angle $\\theta$.\n",
    "* Its angular velocity $\\dot \\theta$.\n",
    "* Two booleans, $l$ and $r$, that represent whether each leg is in contact with the ground or not.\n",
    "\n",
    "<a name=\"3.3\"></a>\n",
    "### 3.3 Rewards\n",
    "\n",
    "After every step, a reward is granted. The total reward of an episode is the sum of the rewards for all the steps within that episode.\n",
    "\n",
    "For each step, the reward:\n",
    "- is increased/decreased the closer/further the lander is to the landing pad.\n",
    "- is increased/decreased the slower/faster the lander is moving.\n",
    "- is decreased the more the lander is tilted (angle not horizontal).\n",
    "- is increased by 10 points for each leg that is in contact with the ground.\n",
    "- is decreased by 0.03 points each frame a side engine is firing.\n",
    "- is decreased by 0.3 points each frame the main engine is firing.\n",
    "\n",
    "The episode receives an additional reward of -100 or +100 points for crashing or landing safely respectively.\n",
    "\n",
    "<a name=\"3.4\"></a>\n",
    "### 3.4 Episode Termination\n",
    "\n",
    "An episode ends (i.e the environment enters a terminal state) if:\n",
    "\n",
    "* The lunar lander crashes (i.e if the body of the lunar lander comes in contact with the surface of the moon).\n",
    "\n",
    "* The absolute value of the lander's $x$-coordinate is greater than 1 (i.e. it goes beyond the left or right border)\n",
    "\n",
    "You can check out the [Open AI Gym documentation](https://www.gymlibrary.dev/environments/box2d/lunar_lander/) for a full description of the environment. "
   ]
  },
  {
   "cell_type": "markdown",
   "metadata": {},
   "source": [
    "<a name=\"4\"></a>\n",
    "## 4 - Load the Environment\n",
    "\n",
    "We start by loading the `LunarLander-v2` environment from the `gym` library by using the `.make()` method. `LunarLander-v2` is the latest version of the Lunar Lander environment and you can read about its version history in the [Open AI Gym documentation](https://www.gymlibrary.dev/environments/box2d/lunar_lander/#version-history)."
   ]
  },
  {
   "cell_type": "code",
   "execution_count": 4,
   "metadata": {
    "deletable": false,
    "editable": false,
    "id": "ILVMYKewfR0n"
   },
   "outputs": [],
   "source": [
    "env = gym.make('LunarLander-v2')"
   ]
  },
  {
   "cell_type": "markdown",
   "metadata": {},
   "source": [
    "Once we load the environment we use the `.reset()` method to reset the environment to the initial state. The lander starts at the top center of the environment and we can render the first frame of the environment by using the `.render()` method."
   ]
  },
  {
   "cell_type": "code",
   "execution_count": 5,
   "metadata": {
    "deletable": false,
    "editable": false
   },
   "outputs": [
    {
     "data": {
      "image/png": "[encoded data removed]",
      "text/plain": [
       "<PIL.Image.Image image mode=RGB size=600x400 at 0x7F6AEB2E8A10>"
      ]
     },
     "execution_count": 5,
     "metadata": {},
     "output_type": "execute_result"
    }
   ],
   "source": [
    "env.reset()\n",
    "PIL.Image.fromarray(env.render(mode='rgb_array'))"
   ]
  },
  {
   "cell_type": "markdown",
   "metadata": {},
   "source": [
    "In order to build our neural network later on we need to know the size of the state vector and the number of valid actions. We can get this information from our environment by using the `.observation_space.shape` and `action_space.n` methods, respectively."
   ]
  },
  {
   "cell_type": "code",
   "execution_count": 6,
   "metadata": {
    "deletable": false,
    "editable": false,
    "id": "x3fdqdG4CUu2"
   },
   "outputs": [
    {
     "name": "stdout",
     "output_type": "stream",
     "text": [
      "State Shape: (8,)\n",
      "Number of actions: 4\n"
     ]
    }
   ],
   "source": [
    "state_size = env.observation_space.shape\n",
    "num_actions = env.action_space.n\n",
    "\n",
    "print('State Shape:', state_size)\n",
    "print('Number of actions:', num_actions)"
   ]
  },
  {
   "cell_type": "markdown",
   "metadata": {},
   "source": [
    "<a name=\"5\"></a>\n",
    "## 5 - Interacting with the Gym Environment\n",
    "\n",
    "The Gym library implements the standard “agent-environment loop” formalism:\n",
    "\n",
    "<br>\n",
    "<center>\n",
    "<video src = \"./videos/rl_formalism.m4v\" width=\"840\" height=\"480\" controls autoplay loop poster=\"./images/rl_formalism.png\"> </video>\n",
    "<figcaption style = \"text-align:center; font-style:italic\">Fig 2. Agent-environment Loop Formalism.</figcaption>\n",
    "</center>\n",
    "<br>\n",
    "\n",
    "In the standard “agent-environment loop” formalism, an agent interacts with the environment in discrete time steps $t=0,1,2,...$. At each time step $t$, the agent uses a policy $\\pi$ to select an action $A_t$ based on its observation of the environment's state $S_t$. The agent receives a numerical reward $R_t$ and on the next time step, moves to a new state $S_{t+1}$.\n",
    "\n",
    "<a name=\"5.1\"></a>\n",
    "### 5.1 Exploring the Environment's Dynamics\n",
    "\n",
    "In Open AI's Gym environments, we use the `.step()` method to run a single time step of the environment's dynamics. In the version of `gym` that we are using the `.step()` method accepts an action and returns four values:\n",
    "\n",
    "* `observation` (**object**): an environment-specific object representing your observation of the environment. In the Lunar Lander environment this corresponds to a numpy array containing the positions and velocities of the lander as described in section [3.2 Observation Space](#3.2).\n",
    "\n",
    "\n",
    "* `reward` (**float**): amount of reward returned as a result of taking the given action. In the Lunar Lander environment this corresponds to a float of type `numpy.float64` as described in section [3.3 Rewards](#3.3).\n",
    "\n",
    "\n",
    "* `done` (**boolean**): When done is `True`, it indicates the episode has terminated and it’s time to reset the environment. \n",
    "\n",
    "\n",
    "* `info` (**dictionary**): diagnostic information useful for debugging. We won't be using this variable in this notebook but it is shown here for completeness.\n",
    "\n",
    "To begin an episode, we need to reset the environment to an initial state. We do this by using the `.reset()` method. "
   ]
  },
  {
   "cell_type": "code",
   "execution_count": 7,
   "metadata": {
    "deletable": false,
    "editable": false
   },
   "outputs": [],
   "source": [
    "# Reset the environment and get the initial state.\n",
    "current_state = env.reset()"
   ]
  },
  {
   "cell_type": "markdown",
   "metadata": {},
   "source": [
    "Once the environment is reset, the agent can start taking actions in the environment by using the `.step()` method. Note that the agent can only take one action per time step. \n",
    "\n",
    "In the cell below you can select different actions and see how the returned values change depending on the action taken. Remember that in this environment the agent has four discrete actions available and we specify them in code by using their corresponding numerical value:\n",
    "\n",
    "```python\n",
    "Do nothing = 0\n",
    "Fire right engine = 1\n",
    "Fire main engine = 2\n",
    "Fire left engine = 3\n",
    "```"
   ]
  },
  {
   "cell_type": "code",
   "execution_count": 8,
   "metadata": {
    "deletable": false
   },
   "outputs": [
    {
     "data": {
      "text/html": [
       "<style  type=\"text/css\" >\n",
       "    #T_1c81103a_283c_11ee_aa4f_0242ac120041 th {\n",
       "          border: 1px solid grey;\n",
       "          text-align: center;\n",
       "    }    #T_1c81103a_283c_11ee_aa4f_0242ac120041 tbody td {\n",
       "          border: 1px solid grey;\n",
       "          text-align: center;\n",
       "    }    #T_1c81103a_283c_11ee_aa4f_0242ac120041row0_col0 {\n",
       "            background-color :  grey;\n",
       "        }    #T_1c81103a_283c_11ee_aa4f_0242ac120041row1_col1 {\n",
       "            background-color :  grey;\n",
       "        }    #T_1c81103a_283c_11ee_aa4f_0242ac120041row1_col2 {\n",
       "            background-color :  grey;\n",
       "        }    #T_1c81103a_283c_11ee_aa4f_0242ac120041row1_col3 {\n",
       "            background-color :  grey;\n",
       "        }    #T_1c81103a_283c_11ee_aa4f_0242ac120041row1_col4 {\n",
       "            background-color :  grey;\n",
       "        }    #T_1c81103a_283c_11ee_aa4f_0242ac120041row1_col5 {\n",
       "            background-color :  grey;\n",
       "        }    #T_1c81103a_283c_11ee_aa4f_0242ac120041row1_col6 {\n",
       "            background-color :  grey;\n",
       "        }    #T_1c81103a_283c_11ee_aa4f_0242ac120041row1_col7 {\n",
       "            background-color :  grey;\n",
       "        }    #T_1c81103a_283c_11ee_aa4f_0242ac120041row1_col8 {\n",
       "            background-color :  grey;\n",
       "        }    #T_1c81103a_283c_11ee_aa4f_0242ac120041row1_col9 {\n",
       "            background-color :  grey;\n",
       "        }    #T_1c81103a_283c_11ee_aa4f_0242ac120041row1_col10 {\n",
       "            background-color :  grey;\n",
       "        }    #T_1c81103a_283c_11ee_aa4f_0242ac120041row1_col11 {\n",
       "            background-color :  grey;\n",
       "        }    #T_1c81103a_283c_11ee_aa4f_0242ac120041row2_col0 {\n",
       "            background-color :  grey;\n",
       "        }    #T_1c81103a_283c_11ee_aa4f_0242ac120041row3_col1 {\n",
       "            background-color :  grey;\n",
       "        }    #T_1c81103a_283c_11ee_aa4f_0242ac120041row3_col2 {\n",
       "            background-color :  grey;\n",
       "        }    #T_1c81103a_283c_11ee_aa4f_0242ac120041row3_col3 {\n",
       "            background-color :  grey;\n",
       "        }    #T_1c81103a_283c_11ee_aa4f_0242ac120041row3_col4 {\n",
       "            background-color :  grey;\n",
       "        }    #T_1c81103a_283c_11ee_aa4f_0242ac120041row3_col5 {\n",
       "            background-color :  grey;\n",
       "        }    #T_1c81103a_283c_11ee_aa4f_0242ac120041row3_col6 {\n",
       "            background-color :  grey;\n",
       "        }    #T_1c81103a_283c_11ee_aa4f_0242ac120041row3_col7 {\n",
       "            background-color :  grey;\n",
       "        }    #T_1c81103a_283c_11ee_aa4f_0242ac120041row3_col8 {\n",
       "            background-color :  grey;\n",
       "        }    #T_1c81103a_283c_11ee_aa4f_0242ac120041row3_col9 {\n",
       "            background-color :  grey;\n",
       "        }    #T_1c81103a_283c_11ee_aa4f_0242ac120041row3_col10 {\n",
       "            background-color :  grey;\n",
       "        }    #T_1c81103a_283c_11ee_aa4f_0242ac120041row3_col11 {\n",
       "            background-color :  grey;\n",
       "        }    #T_1c81103a_283c_11ee_aa4f_0242ac120041row4_col1 {\n",
       "            background-color :  grey;\n",
       "        }    #T_1c81103a_283c_11ee_aa4f_0242ac120041row4_col2 {\n",
       "            background-color :  grey;\n",
       "        }    #T_1c81103a_283c_11ee_aa4f_0242ac120041row4_col3 {\n",
       "            background-color :  grey;\n",
       "        }    #T_1c81103a_283c_11ee_aa4f_0242ac120041row4_col4 {\n",
       "            background-color :  grey;\n",
       "        }    #T_1c81103a_283c_11ee_aa4f_0242ac120041row4_col5 {\n",
       "            background-color :  grey;\n",
       "        }    #T_1c81103a_283c_11ee_aa4f_0242ac120041row4_col6 {\n",
       "            background-color :  grey;\n",
       "        }    #T_1c81103a_283c_11ee_aa4f_0242ac120041row4_col7 {\n",
       "            background-color :  grey;\n",
       "        }    #T_1c81103a_283c_11ee_aa4f_0242ac120041row4_col8 {\n",
       "            background-color :  grey;\n",
       "        }    #T_1c81103a_283c_11ee_aa4f_0242ac120041row4_col9 {\n",
       "            background-color :  grey;\n",
       "        }    #T_1c81103a_283c_11ee_aa4f_0242ac120041row4_col10 {\n",
       "            background-color :  grey;\n",
       "        }    #T_1c81103a_283c_11ee_aa4f_0242ac120041row4_col11 {\n",
       "            background-color :  grey;\n",
       "        }</style><table id=\"T_1c81103a_283c_11ee_aa4f_0242ac120041\" ><thead>    <tr>        <th class=\"blank level0\" ></th>        <th class=\"col_heading level0 col0\" ></th>        <th class=\"col_heading level0 col1\" colspan=8>State Vector</th>        <th class=\"col_heading level0 col9\" colspan=3>Derived from the State Vector (the closer to zero, the better)</th>    </tr>    <tr>        <th class=\"blank level1\" ></th>        <th class=\"col_heading level1 col0\" ></th>        <th class=\"col_heading level1 col1\" colspan=2>Coordinate</th>        <th class=\"col_heading level1 col3\" colspan=2>Velocity</th>        <th class=\"col_heading level1 col5\" colspan=2>Tilting</th>        <th class=\"col_heading level1 col7\" colspan=2>Ground contact</th>        <th class=\"col_heading level1 col9\" >Distance from landing pad</th>        <th class=\"col_heading level1 col10\" >Velocity</th>        <th class=\"col_heading level1 col11\" >Tilting Angle (absolute value)</th>    </tr>    <tr>        <th class=\"blank level2\" ></th>        <th class=\"col_heading level2 col0\" ></th>        <th class=\"col_heading level2 col1\" >X (Horizontal)</th>        <th class=\"col_heading level2 col2\" >Y (Vertical)</th>        <th class=\"col_heading level2 col3\" >X (Horizontal)</th>        <th class=\"col_heading level2 col4\" >Y (Vertical)</th>        <th class=\"col_heading level2 col5\" >Angle</th>        <th class=\"col_heading level2 col6\" >Angular Velocity</th>        <th class=\"col_heading level2 col7\" >Left Leg?</th>        <th class=\"col_heading level2 col8\" >Right Leg?</th>        <th class=\"col_heading level2 col9\" ></th>        <th class=\"col_heading level2 col10\" ></th>        <th class=\"col_heading level2 col11\" ></th>    </tr></thead><tbody>\n",
       "                <tr>\n",
       "                        <th id=\"T_1c81103a_283c_11ee_aa4f_0242ac120041level0_row0\" class=\"row_heading level0 row0\" >Current State</th>\n",
       "                        <td id=\"T_1c81103a_283c_11ee_aa4f_0242ac120041row0_col0\" class=\"data row0 col0\" ></td>\n",
       "                        <td id=\"T_1c81103a_283c_11ee_aa4f_0242ac120041row0_col1\" class=\"data row0 col1\" >0.001919</td>\n",
       "                        <td id=\"T_1c81103a_283c_11ee_aa4f_0242ac120041row0_col2\" class=\"data row0 col2\" >1.422301</td>\n",
       "                        <td id=\"T_1c81103a_283c_11ee_aa4f_0242ac120041row0_col3\" class=\"data row0 col3\" >0.194400</td>\n",
       "                        <td id=\"T_1c81103a_283c_11ee_aa4f_0242ac120041row0_col4\" class=\"data row0 col4\" >0.505814</td>\n",
       "                        <td id=\"T_1c81103a_283c_11ee_aa4f_0242ac120041row0_col5\" class=\"data row0 col5\" >-0.002217</td>\n",
       "                        <td id=\"T_1c81103a_283c_11ee_aa4f_0242ac120041row0_col6\" class=\"data row0 col6\" >-0.044034</td>\n",
       "                        <td id=\"T_1c81103a_283c_11ee_aa4f_0242ac120041row0_col7\" class=\"data row0 col7\" >False</td>\n",
       "                        <td id=\"T_1c81103a_283c_11ee_aa4f_0242ac120041row0_col8\" class=\"data row0 col8\" >False</td>\n",
       "                        <td id=\"T_1c81103a_283c_11ee_aa4f_0242ac120041row0_col9\" class=\"data row0 col9\" >1.422302</td>\n",
       "                        <td id=\"T_1c81103a_283c_11ee_aa4f_0242ac120041row0_col10\" class=\"data row0 col10\" >0.541885</td>\n",
       "                        <td id=\"T_1c81103a_283c_11ee_aa4f_0242ac120041row0_col11\" class=\"data row0 col11\" >0.002217</td>\n",
       "            </tr>\n",
       "            <tr>\n",
       "                        <th id=\"T_1c81103a_283c_11ee_aa4f_0242ac120041level0_row1\" class=\"row_heading level0 row1\" >Action</th>\n",
       "                        <td id=\"T_1c81103a_283c_11ee_aa4f_0242ac120041row1_col0\" class=\"data row1 col0\" >Do nothing</td>\n",
       "                        <td id=\"T_1c81103a_283c_11ee_aa4f_0242ac120041row1_col1\" class=\"data row1 col1\" ></td>\n",
       "                        <td id=\"T_1c81103a_283c_11ee_aa4f_0242ac120041row1_col2\" class=\"data row1 col2\" ></td>\n",
       "                        <td id=\"T_1c81103a_283c_11ee_aa4f_0242ac120041row1_col3\" class=\"data row1 col3\" ></td>\n",
       "                        <td id=\"T_1c81103a_283c_11ee_aa4f_0242ac120041row1_col4\" class=\"data row1 col4\" ></td>\n",
       "                        <td id=\"T_1c81103a_283c_11ee_aa4f_0242ac120041row1_col5\" class=\"data row1 col5\" ></td>\n",
       "                        <td id=\"T_1c81103a_283c_11ee_aa4f_0242ac120041row1_col6\" class=\"data row1 col6\" ></td>\n",
       "                        <td id=\"T_1c81103a_283c_11ee_aa4f_0242ac120041row1_col7\" class=\"data row1 col7\" ></td>\n",
       "                        <td id=\"T_1c81103a_283c_11ee_aa4f_0242ac120041row1_col8\" class=\"data row1 col8\" ></td>\n",
       "                        <td id=\"T_1c81103a_283c_11ee_aa4f_0242ac120041row1_col9\" class=\"data row1 col9\" ></td>\n",
       "                        <td id=\"T_1c81103a_283c_11ee_aa4f_0242ac120041row1_col10\" class=\"data row1 col10\" ></td>\n",
       "                        <td id=\"T_1c81103a_283c_11ee_aa4f_0242ac120041row1_col11\" class=\"data row1 col11\" ></td>\n",
       "            </tr>\n",
       "            <tr>\n",
       "                        <th id=\"T_1c81103a_283c_11ee_aa4f_0242ac120041level0_row2\" class=\"row_heading level0 row2\" >Next State</th>\n",
       "                        <td id=\"T_1c81103a_283c_11ee_aa4f_0242ac120041row2_col0\" class=\"data row2 col0\" ></td>\n",
       "                        <td id=\"T_1c81103a_283c_11ee_aa4f_0242ac120041row2_col1\" class=\"data row2 col1\" >0.003839</td>\n",
       "                        <td id=\"T_1c81103a_283c_11ee_aa4f_0242ac120041row2_col2\" class=\"data row2 col2\" >1.433103</td>\n",
       "                        <td id=\"T_1c81103a_283c_11ee_aa4f_0242ac120041row2_col3\" class=\"data row2 col3\" >0.194137</td>\n",
       "                        <td id=\"T_1c81103a_283c_11ee_aa4f_0242ac120041row2_col4\" class=\"data row2 col4\" >0.480094</td>\n",
       "                        <td id=\"T_1c81103a_283c_11ee_aa4f_0242ac120041row2_col5\" class=\"data row2 col5\" >-0.004393</td>\n",
       "                        <td id=\"T_1c81103a_283c_11ee_aa4f_0242ac120041row2_col6\" class=\"data row2 col6\" >-0.043519</td>\n",
       "                        <td id=\"T_1c81103a_283c_11ee_aa4f_0242ac120041row2_col7\" class=\"data row2 col7\" >False</td>\n",
       "                        <td id=\"T_1c81103a_283c_11ee_aa4f_0242ac120041row2_col8\" class=\"data row2 col8\" >False</td>\n",
       "                        <td id=\"T_1c81103a_283c_11ee_aa4f_0242ac120041row2_col9\" class=\"data row2 col9\" >1.433108</td>\n",
       "                        <td id=\"T_1c81103a_283c_11ee_aa4f_0242ac120041row2_col10\" class=\"data row2 col10\" >0.517860</td>\n",
       "                        <td id=\"T_1c81103a_283c_11ee_aa4f_0242ac120041row2_col11\" class=\"data row2 col11\" >0.004393</td>\n",
       "            </tr>\n",
       "            <tr>\n",
       "                        <th id=\"T_1c81103a_283c_11ee_aa4f_0242ac120041level0_row3\" class=\"row_heading level0 row3\" >Reward</th>\n",
       "                        <td id=\"T_1c81103a_283c_11ee_aa4f_0242ac120041row3_col0\" class=\"data row3 col0\" >1.104326</td>\n",
       "                        <td id=\"T_1c81103a_283c_11ee_aa4f_0242ac120041row3_col1\" class=\"data row3 col1\" ></td>\n",
       "                        <td id=\"T_1c81103a_283c_11ee_aa4f_0242ac120041row3_col2\" class=\"data row3 col2\" ></td>\n",
       "                        <td id=\"T_1c81103a_283c_11ee_aa4f_0242ac120041row3_col3\" class=\"data row3 col3\" ></td>\n",
       "                        <td id=\"T_1c81103a_283c_11ee_aa4f_0242ac120041row3_col4\" class=\"data row3 col4\" ></td>\n",
       "                        <td id=\"T_1c81103a_283c_11ee_aa4f_0242ac120041row3_col5\" class=\"data row3 col5\" ></td>\n",
       "                        <td id=\"T_1c81103a_283c_11ee_aa4f_0242ac120041row3_col6\" class=\"data row3 col6\" ></td>\n",
       "                        <td id=\"T_1c81103a_283c_11ee_aa4f_0242ac120041row3_col7\" class=\"data row3 col7\" ></td>\n",
       "                        <td id=\"T_1c81103a_283c_11ee_aa4f_0242ac120041row3_col8\" class=\"data row3 col8\" ></td>\n",
       "                        <td id=\"T_1c81103a_283c_11ee_aa4f_0242ac120041row3_col9\" class=\"data row3 col9\" ></td>\n",
       "                        <td id=\"T_1c81103a_283c_11ee_aa4f_0242ac120041row3_col10\" class=\"data row3 col10\" ></td>\n",
       "                        <td id=\"T_1c81103a_283c_11ee_aa4f_0242ac120041row3_col11\" class=\"data row3 col11\" ></td>\n",
       "            </tr>\n",
       "            <tr>\n",
       "                        <th id=\"T_1c81103a_283c_11ee_aa4f_0242ac120041level0_row4\" class=\"row_heading level0 row4\" >Episode Terminated</th>\n",
       "                        <td id=\"T_1c81103a_283c_11ee_aa4f_0242ac120041row4_col0\" class=\"data row4 col0\" >False</td>\n",
       "                        <td id=\"T_1c81103a_283c_11ee_aa4f_0242ac120041row4_col1\" class=\"data row4 col1\" ></td>\n",
       "                        <td id=\"T_1c81103a_283c_11ee_aa4f_0242ac120041row4_col2\" class=\"data row4 col2\" ></td>\n",
       "                        <td id=\"T_1c81103a_283c_11ee_aa4f_0242ac120041row4_col3\" class=\"data row4 col3\" ></td>\n",
       "                        <td id=\"T_1c81103a_283c_11ee_aa4f_0242ac120041row4_col4\" class=\"data row4 col4\" ></td>\n",
       "                        <td id=\"T_1c81103a_283c_11ee_aa4f_0242ac120041row4_col5\" class=\"data row4 col5\" ></td>\n",
       "                        <td id=\"T_1c81103a_283c_11ee_aa4f_0242ac120041row4_col6\" class=\"data row4 col6\" ></td>\n",
       "                        <td id=\"T_1c81103a_283c_11ee_aa4f_0242ac120041row4_col7\" class=\"data row4 col7\" ></td>\n",
       "                        <td id=\"T_1c81103a_283c_11ee_aa4f_0242ac120041row4_col8\" class=\"data row4 col8\" ></td>\n",
       "                        <td id=\"T_1c81103a_283c_11ee_aa4f_0242ac120041row4_col9\" class=\"data row4 col9\" ></td>\n",
       "                        <td id=\"T_1c81103a_283c_11ee_aa4f_0242ac120041row4_col10\" class=\"data row4 col10\" ></td>\n",
       "                        <td id=\"T_1c81103a_283c_11ee_aa4f_0242ac120041row4_col11\" class=\"data row4 col11\" ></td>\n",
       "            </tr>\n",
       "    </tbody></table>"
      ],
      "text/plain": [
       "<pandas.io.formats.style.Styler at 0x7f6aeb3a5ed0>"
      ]
     },
     "metadata": {},
     "output_type": "display_data"
    }
   ],
   "source": [
    "# Select an action\n",
    "action = 0\n",
    "\n",
    "# Run a single time step of the environment's dynamics with the given action.\n",
    "next_state, reward, done, _ = env.step(action)\n",
    "\n",
    "# Display table with values.\n",
    "utils.display_table(current_state, action, next_state, reward, done)\n",
    "\n",
    "# Replace the `current_state` with the state after the action is taken\n",
    "current_state = next_state"
   ]
  },
  {
   "cell_type": "markdown",
   "metadata": {},
   "source": [
    "In practice, when we train the agent we use a loop to allow the agent to take many consecutive actions during an episode."
   ]
  },
  {
   "cell_type": "markdown",
   "metadata": {},
   "source": [
    "<a name=\"6\"></a>\n",
    "## 6 - Deep Q-Learning\n",
    "\n",
    "In cases where both the state and action space are discrete we can estimate the action-value function iteratively by using the Bellman equation:\n",
    "\n",
    "$$\n",
    "Q_{i+1}(s,a) = R + \\gamma \\max_{a'}Q_i(s',a')\n",
    "$$\n",
    "\n",
    "This iterative method converges to the optimal action-value function $Q^*(s,a)$ as $i\\to\\infty$. This means that the agent just needs to gradually explore the state-action space and keep updating the estimate of $Q(s,a)$ until it converges to the optimal action-value function $Q^*(s,a)$. However, in cases where the state space is continuous it becomes practically impossible to explore the entire state-action space. Consequently, this also makes it practically impossible to gradually estimate $Q(s,a)$ until it converges to $Q^*(s,a)$.\n",
    "\n",
    "In the Deep $Q$-Learning, we solve this problem by using a neural network to estimate the action-value function $Q(s,a)\\approx Q^*(s,a)$. We call this neural network a $Q$-Network and it can be trained by adjusting its weights at each iteration to minimize the mean-squared error in the Bellman equation.\n",
    "\n",
    "Unfortunately, using neural networks in reinforcement learning to estimate action-value functions has proven to be highly unstable. Luckily, there's a couple of techniques that can be employed to avoid instabilities. These techniques consist of using a ***Target Network*** and ***Experience Replay***. We will explore these two techniques in the following sections."
   ]
  },
  {
   "cell_type": "markdown",
   "metadata": {},
   "source": [
    "<a name=\"6.1\"></a>\n",
    "### 6.1 Target Network\n",
    "\n",
    "We can train the $Q$-Network by adjusting it's weights at each iteration to minimize the mean-squared error in the Bellman equation, where the target values are given by:\n",
    "\n",
    "$$\n",
    "y = R + \\gamma \\max_{a'}Q(s',a';w)\n",
    "$$\n",
    "\n",
    "where $w$ are the weights of the $Q$-Network. This means that we are adjusting the weights $w$ at each iteration to minimize the following error:\n",
    "\n",
    "$$\n",
    "\\overbrace{\\underbrace{R + \\gamma \\max_{a'}Q(s',a'; w)}_{\\rm {y~target}} - Q(s,a;w)}^{\\rm {Error}}\n",
    "$$\n",
    "\n",
    "Notice that this forms a problem because the $y$ target is changing on every iteration. Having a constantly moving target can lead to oscillations and instabilities. To avoid this, we can create\n",
    "a separate neural network for generating the $y$ targets. We call this separate neural network the **target $\\hat Q$-Network** and it will have the same architecture as the original $Q$-Network. By using the target $\\hat Q$-Network, the above error becomes:\n",
    "\n",
    "$$\n",
    "\\overbrace{\\underbrace{R + \\gamma \\max_{a'}\\hat{Q}(s',a'; w^-)}_{\\rm {y~target}} - Q(s,a;w)}^{\\rm {Error}}\n",
    "$$\n",
    "\n",
    "where $w^-$ and $w$ are the weights of the target $\\hat Q$-Network and $Q$-Network, respectively.\n",
    "\n",
    "In practice, we will use the following algorithm: every $C$ time steps we will use the $\\hat Q$-Network to generate the $y$ targets and update the weights of the target $\\hat Q$-Network using the weights of the $Q$-Network. We will update the weights $w^-$ of the the target $\\hat Q$-Network using a **soft update**. This means that we will update the weights $w^-$ using the following rule:\n",
    " \n",
    "$$\n",
    "w^-\\leftarrow \\tau w + (1 - \\tau) w^-\n",
    "$$\n",
    "\n",
    "where $\\tau\\ll 1$. By using the soft update, we are ensuring that the target values, $y$, change slowly, which greatly improves the stability of our learning algorithm."
   ]
  },
  {
   "cell_type": "markdown",
   "metadata": {},
   "source": [
    "<a name=\"ex01\"></a>\n",
    "### Exercise 1\n",
    "\n",
    "In this exercise you will create the $Q$ and target $\\hat Q$ networks and set the optimizer. Remember that the Deep $Q$-Network (DQN) is a neural network that approximates the action-value function $Q(s,a)\\approx Q^*(s,a)$. It does this by learning how to map states to $Q$ values.\n",
    "\n",
    "To solve the Lunar Lander environment, we are going to employ a DQN with the following architecture:\n",
    "\n",
    "* An `Input` layer that takes `state_size` as input.\n",
    "\n",
    "* A `Dense` layer with `64` units and a `relu` activation function.\n",
    "\n",
    "* A `Dense` layer with `64` units and a `relu` activation function.\n",
    "\n",
    "* A `Dense` layer with `num_actions` units and a `linear` activation function. This will be the output layer of our network.\n",
    "\n",
    "\n",
    "In the cell below you should create the $Q$-Network and the target $\\hat Q$-Network using the model architecture described above. Remember that both the $Q$-Network and the target $\\hat Q$-Network have the same architecture.\n",
    "\n",
    "Lastly, you should set `Adam` as the optimizer with a learning rate equal to `ALPHA`. Recall that `ALPHA` was defined in the [Hyperparameters](#2) section. We should note that for this exercise you should use the already imported packages:\n",
    "```python\n",
    "from tensorflow.keras.layers import Dense, Input\n",
    "from tensorflow.keras.optimizers import Adam\n",
    "```"
   ]
  },
  {
   "cell_type": "code",
   "execution_count": 17,
   "metadata": {
    "deletable": false
   },
   "outputs": [],
   "source": [
    "# UNQ_C1\n",
    "# GRADED CELL\n",
    "\n",
    "# Create the Q-Network\n",
    "q_network = Sequential([\n",
    "    ### START CODE HERE ###\n",
    "    Input(shape=state_size),\n",
    "    Dense(64, activation=\"relu\"),\n",
    "    Dense(64, activation=\"relu\"),\n",
    "    Dense(num_actions)\n",
    "    ### END CODE HERE ### \n",
    "    ])\n",
    "\n",
    "# Create the target Q^-Network\n",
    "target_q_network = Sequential([\n",
    "    ### START CODE HERE ### \n",
    "    Input(shape=state_size),   \n",
    "    Dense(64, activation=\"relu\"),\n",
    "    Dense(64, activation=\"relu\"),\n",
    "    Dense(num_actions)\n",
    "    \n",
    "    ### END CODE HERE ###\n",
    "    ])\n",
    "\n",
    "### START CODE HERE ### \n",
    "optimizer = Adam(learning_rate=ALPHA)\n",
    "### END CODE HERE ###"
   ]
  },
  {
   "cell_type": "code",
   "execution_count": 18,
   "metadata": {
    "deletable": false,
    "editable": false
   },
   "outputs": [
    {
     "name": "stdout",
     "output_type": "stream",
     "text": [
      "\u001b[92mAll tests passed!\n",
      "\u001b[92mAll tests passed!\n",
      "\u001b[92mAll tests passed!\n"
     ]
    }
   ],
   "source": [
    "# UNIT TEST\n",
    "from public_tests import *\n",
    "\n",
    "test_network(q_network)\n",
    "test_network(target_q_network)\n",
    "test_optimizer(optimizer, ALPHA) "
   ]
  },
  {
   "cell_type": "markdown",
   "metadata": {},
   "source": [
    "<details>\n",
    "  <summary><font size=\"3\" color=\"darkgreen\"><b>Click for hints</b></font></summary>\n",
    "    \n",
    "```python\n",
    "# Create the Q-Network\n",
    "q_network = Sequential([\n",
    "    Input(shape=state_size),                      \n",
    "    Dense(units=64, activation='relu'),            \n",
    "    Dense(units=64, activation='relu'),            \n",
    "    Dense(units=num_actions, activation='linear'),\n",
    "    ])\n",
    "\n",
    "# Create the target Q^-Network\n",
    "target_q_network = Sequential([\n",
    "    Input(shape=state_size),                       \n",
    "    Dense(units=64, activation='relu'),            \n",
    "    Dense(units=64, activation='relu'),            \n",
    "    Dense(units=num_actions, activation='linear'), \n",
    "    ])\n",
    "\n",
    "optimizer = Adam(learning_rate=ALPHA)                                  \n",
    "``` "
   ]
  },
  {
   "cell_type": "markdown",
   "metadata": {},
   "source": [
    "<a name=\"6.2\"></a>\n",
    "### 6.2 Experience Replay\n",
    "\n",
    "When an agent interacts with the environment, the states, actions, and rewards the agent experiences are sequential by nature. If the agent tries to learn from these consecutive experiences it can run into problems due to the strong correlations between them. To avoid this, we employ a technique known as **Experience Replay** to generate uncorrelated experiences for training our agent. Experience replay consists of storing the agent's experiences (i.e the states, actions, and rewards the agent receives) in a memory buffer and then sampling a random mini-batch of experiences from the buffer to do the learning. The experience tuples $(S_t, A_t, R_t, S_{t+1})$ will be added to the memory buffer at each time step as the agent interacts with the environment.\n",
    "\n",
    "For convenience, we will store the experiences as named tuples."
   ]
  },
  {
   "cell_type": "code",
   "execution_count": 19,
   "metadata": {
    "deletable": false,
    "editable": false
   },
   "outputs": [],
   "source": [
    "# Store experiences as named tuples\n",
    "experience = namedtuple(\"Experience\", field_names=[\"state\", \"action\", \"reward\", \"next_state\", \"done\"])"
   ]
  },
  {
   "cell_type": "markdown",
   "metadata": {},
   "source": [
    "By using experience replay we avoid problematic correlations, oscillations and instabilities. In addition, experience replay also allows the agent to potentially use the same experience in multiple weight updates, which increases data efficiency."
   ]
  },
  {
   "cell_type": "markdown",
   "metadata": {},
   "source": [
    "<a name=\"7\"></a>\n",
    "## 7 - Deep Q-Learning Algorithm with Experience Replay\n",
    "\n",
    "Now that we know all the techniques that we are going to use, we can put them together to arrive at the Deep Q-Learning Algorithm With Experience Replay.\n",
    "<br>\n",
    "<br>\n",
    "<figure>\n",
    "  <img src = \"images/deep_q_algorithm.png\" width = 90% style = \"border: thin silver solid; padding: 0px\">\n",
    "      <figcaption style = \"text-align: center; font-style: italic\">Fig 3. Deep Q-Learning with Experience Replay.</figcaption>\n",
    "</figure>"
   ]
  },
  {
   "cell_type": "markdown",
   "metadata": {},
   "source": [
    "<a name=\"ex02\"></a>\n",
    "### Exercise 2\n",
    "\n",
    "In this exercise you will implement line ***12*** of the algorithm outlined in *Fig 3* above and you will also compute the loss between the $y$ targets and the $Q(s,a)$ values. In the cell below, complete the `compute_loss` function by setting the $y$ targets equal to:\n",
    "\n",
    "$$\n",
    "\\begin{equation}\n",
    "    y_j =\n",
    "    \\begin{cases}\n",
    "      R_j & \\text{if episode terminates at step  } j+1\\\\\n",
    "      R_j + \\gamma \\max_{a'}\\hat{Q}(s_{j+1},a') & \\text{otherwise}\\\\\n",
    "    \\end{cases}       \n",
    "\\end{equation}\n",
    "$$\n",
    "\n",
    "Here are a couple of things to note:\n",
    "\n",
    "* The `compute_loss` function takes in a mini-batch of experience tuples. This mini-batch of experience tuples is unpacked to extract the `states`, `actions`, `rewards`, `next_states`, and `done_vals`. You should keep in mind that these variables are *TensorFlow Tensors* whose size will depend on the mini-batch size. For example, if the mini-batch size is `64` then both `rewards` and `done_vals` will be TensorFlow Tensors with `64` elements.\n",
    "\n",
    "\n",
    "* Using `if/else` statements to set the $y$ targets will not work when the variables are tensors with many elements. However, notice that you can use the `done_vals` to implement the above in a single line of code. To do this, recall that the `done` variable is a Boolean variable that takes the value `True` when an episode terminates at step $j+1$ and it is `False` otherwise. Taking into account that a Boolean value of `True` has the numerical value of `1` and a Boolean value of `False` has the numerical value of `0`, you can use the factor `(1 - done_vals)` to implement the above in a single line of code. Here's a hint: notice that `(1 - done_vals)` has a value of `0` when `done_vals` is `True` and a value of `1` when `done_vals` is `False`. \n",
    "\n",
    "Lastly, compute the loss by calculating the Mean-Squared Error (`MSE`) between the `y_targets` and the `q_values`. To calculate the mean-squared error you should use the already imported package `MSE`:\n",
    "```python\n",
    "from tensorflow.keras.losses import MSE\n",
    "```"
   ]
  },
  {
   "cell_type": "code",
   "execution_count": 22,
   "metadata": {
    "deletable": false
   },
   "outputs": [],
   "source": [
    "# UNQ_C2\n",
    "# GRADED FUNCTION: calculate_loss\n",
    "\n",
    "def compute_loss(experiences, gamma, q_network, target_q_network):\n",
    "    \"\"\" \n",
    "    Calculates the loss.\n",
    "    \n",
    "    Args:\n",
    "      experiences: (tuple) tuple of [\"state\", \"action\", \"reward\", \"next_state\", \"done\"] namedtuples\n",
    "      gamma: (float) The discount factor.\n",
    "      q_network: (tf.keras.Sequential) Keras model for predicting the q_values\n",
    "      target_q_network: (tf.keras.Sequential) Keras model for predicting the targets\n",
    "          \n",
    "    Returns:\n",
    "      loss: (TensorFlow Tensor(shape=(0,), dtype=int32)) the Mean-Squared Error between\n",
    "            the y targets and the Q(s,a) values.\n",
    "    \"\"\"\n",
    "\n",
    "    # Unpack the mini-batch of experience tuples\n",
    "    states, actions, rewards, next_states, done_vals = experiences\n",
    "    \n",
    "    # Compute max Q^(s,a)\n",
    "    max_qsa = tf.reduce_max(target_q_network(next_states), axis=-1)\n",
    "    \n",
    "    # Set y = R if episode terminates, otherwise set y = R + γ max Q^(s,a).\n",
    "    ### START CODE HERE ###\n",
    "    y_targets = rewards + (gamma * max_qsa * (1 - done_vals))\n",
    "    ### END CODE HERE ###\n",
    "    \n",
    "    # Get the q_values and reshape to match y_targets\n",
    "    q_values = q_network(states)\n",
    "    q_values = tf.gather_nd(q_values, tf.stack([tf.range(q_values.shape[0]),\n",
    "                                                tf.cast(actions, tf.int32)], axis=1))\n",
    "        \n",
    "    # Compute the loss\n",
    "    ### START CODE HERE ### \n",
    "    loss = MSE(y_targets, q_values)\n",
    "    ### END CODE HERE ### \n",
    "    \n",
    "    return loss"
   ]
  },
  {
   "cell_type": "code",
   "execution_count": 23,
   "metadata": {
    "deletable": false,
    "editable": false
   },
   "outputs": [
    {
     "name": "stdout",
     "output_type": "stream",
     "text": [
      "\u001b[92mAll tests passed!\n"
     ]
    }
   ],
   "source": [
    "# UNIT TEST    \n",
    "test_compute_loss(compute_loss)"
   ]
  },
  {
   "cell_type": "markdown",
   "metadata": {},
   "source": [
    "<details>\n",
    "  <summary><font size=\"3\" color=\"darkgreen\"><b>Click for hints</b></font></summary>\n",
    "    \n",
    "```python\n",
    "def compute_loss(experiences, gamma, q_network, target_q_network):\n",
    "    \"\"\" \n",
    "    Calculates the loss.\n",
    "    \n",
    "    Args:\n",
    "      experiences: (tuple) tuple of [\"state\", \"action\", \"reward\", \"next_state\", \"done\"] namedtuples\n",
    "      gamma: (float) The discount factor.\n",
    "      q_network: (tf.keras.Sequential) Keras model for predicting the q_values\n",
    "      target_q_network: (tf.keras.Sequential) Keras model for predicting the targets\n",
    "          \n",
    "    Returns:\n",
    "      loss: (TensorFlow Tensor(shape=(0,), dtype=int32)) the Mean-Squared Error between\n",
    "            the y targets and the Q(s,a) values.\n",
    "    \"\"\"\n",
    "\n",
    "    \n",
    "    # Unpack the mini-batch of experience tuples\n",
    "    states, actions, rewards, next_states, done_vals = experiences\n",
    "    \n",
    "    # Compute max Q^(s,a)\n",
    "    max_qsa = tf.reduce_max(target_q_network(next_states), axis=-1)\n",
    "    \n",
    "    # Set y = R if episode terminates, otherwise set y = R + γ max Q^(s,a).\n",
    "    y_targets = rewards + (gamma * max_qsa * (1 - done_vals))\n",
    "    \n",
    "    # Get the q_values\n",
    "    q_values = q_network(states)\n",
    "    q_values = tf.gather_nd(q_values, tf.stack([tf.range(q_values.shape[0]),\n",
    "                                                tf.cast(actions, tf.int32)], axis=1))\n",
    "    \n",
    "    # Calculate the loss\n",
    "    loss = MSE(y_targets, q_values)\n",
    "    \n",
    "    return loss\n",
    "\n",
    "``` \n",
    "    "
   ]
  },
  {
   "cell_type": "markdown",
   "metadata": {},
   "source": [
    "<a name=\"8\"></a>\n",
    "## 8 - Update the Network Weights\n",
    "\n",
    "We will use the `agent_learn` function below to implement lines ***12 -14*** of the algorithm outlined in [Fig 3](#7). The `agent_learn` function will update the weights of the $Q$ and target $\\hat Q$ networks using a custom training loop. Because we are using a custom training loop we need to retrieve the gradients via a `tf.GradientTape` instance, and then call `optimizer.apply_gradients()` to update the weights of our $Q$-Network. Note that we are also using the `@tf.function` decorator to increase performance. Without this decorator our training will take twice as long. If you would like to know more about how to increase performance with `@tf.function` take a look at the [TensorFlow documentation](https://www.tensorflow.org/guide/function).\n",
    "\n",
    "The last line of this function updates the weights of the target $\\hat Q$-Network using a [soft update](#6.1). If you want to know how this is implemented in code we encourage you to take a look at the `utils.update_target_network` function in the `utils` module."
   ]
  },
  {
   "cell_type": "code",
   "execution_count": 24,
   "metadata": {
    "deletable": false,
    "editable": false
   },
   "outputs": [],
   "source": [
    "@tf.function\n",
    "def agent_learn(experiences, gamma):\n",
    "    \"\"\"\n",
    "    Updates the weights of the Q networks.\n",
    "    \n",
    "    Args:\n",
    "      experiences: (tuple) tuple of [\"state\", \"action\", \"reward\", \"next_state\", \"done\"] namedtuples\n",
    "      gamma: (float) The discount factor.\n",
    "    \n",
    "    \"\"\"\n",
    "    \n",
    "    # Calculate the loss\n",
    "    with tf.GradientTape() as tape:\n",
    "        loss = compute_loss(experiences, gamma, q_network, target_q_network)\n",
    "\n",
    "    # Get the gradients of the loss with respect to the weights.\n",
    "    gradients = tape.gradient(loss, q_network.trainable_variables)\n",
    "    \n",
    "    # Update the weights of the q_network.\n",
    "    optimizer.apply_gradients(zip(gradients, q_network.trainable_variables))\n",
    "\n",
    "    # update the weights of target q_network\n",
    "    utils.update_target_network(q_network, target_q_network)"
   ]
  },
  {
   "cell_type": "markdown",
   "metadata": {},
   "source": [
    "<a name=\"9\"></a>\n",
    "## 9 - Train the Agent\n",
    "\n",
    "We are now ready to train our agent to solve the Lunar Lander environment. In the cell below we will implement the algorithm in [Fig 3](#7) line by line (please note that we have included the same algorithm below for easy reference. This will prevent you from scrolling up and down the notebook):\n",
    "\n",
    "* **Line 1**: We initialize the `memory_buffer` with a capacity of $N =$ `MEMORY_SIZE`. Notice that we are using a `deque` as the data structure for our `memory_buffer`.\n",
    "\n",
    "\n",
    "* **Line 2**: We skip this line since we already initialized the `q_network` in [Exercise 1](#ex01).\n",
    "\n",
    "\n",
    "* **Line 3**: We initialize the `target_q_network` by setting its weights to be equal to those of the `q_network`.\n",
    "\n",
    "\n",
    "* **Line 4**: We start the outer loop. Notice that we have set $M =$ `num_episodes = 2000`. This number is reasonable because the agent should be able to solve the Lunar Lander environment in less than `2000` episodes using this notebook's default parameters.\n",
    "\n",
    "\n",
    "* **Line 5**: We use the `.reset()` method to reset the environment to the initial state and get the initial state.\n",
    "\n",
    "\n",
    "* **Line 6**: We start the inner loop. Notice that we have set $T =$ `max_num_timesteps = 1000`. This means that the episode will automatically terminate if the episode hasn't terminated after `1000` time steps.\n",
    "\n",
    "\n",
    "* **Line 7**: The agent observes the current `state` and chooses an `action` using an $\\epsilon$-greedy policy. Our agent starts out using a value of $\\epsilon =$ `epsilon = 1` which yields an $\\epsilon$-greedy policy that is equivalent to the equiprobable random policy. This means that at the beginning of our training, the agent is just going to take random actions regardless of the observed `state`. As training progresses we will decrease the value of $\\epsilon$ slowly towards a minimum value using a given $\\epsilon$-decay rate. We want this minimum value to be close to zero because a value of $\\epsilon = 0$ will yield an $\\epsilon$-greedy policy that is equivalent to the greedy policy. This means that towards the end of training, the agent will lean towards selecting the `action` that it believes (based on its past experiences) will maximize $Q(s,a)$. We will set the minimum $\\epsilon$ value to be `0.01` and not exactly 0 because we always want to keep a little bit of exploration during training. If you want to know how this is implemented in code we encourage you to take a look at the `utils.get_action` function in the `utils` module.\n",
    "\n",
    "\n",
    "* **Line 8**: We use the `.step()` method to take the given `action` in the environment and get the `reward` and the `next_state`. \n",
    "\n",
    "\n",
    "* **Line 9**: We store the `experience(state, action, reward, next_state, done)` tuple in our `memory_buffer`. Notice that we also store the `done` variable so that we can keep track of when an episode terminates. This allowed us to set the $y$ targets in [Exercise 2](#ex02).\n",
    "\n",
    "\n",
    "* **Line 10**: We check if the conditions are met to perform a learning update. We do this by using our custom `utils.check_update_conditions` function. This function checks if $C =$ `NUM_STEPS_FOR_UPDATE = 4` time steps have occured and if our `memory_buffer` has enough experience tuples to fill a mini-batch. For example, if the mini-batch size is `64`, then our `memory_buffer` should have more than `64` experience tuples in order to pass the latter condition. If the conditions are met, then the `utils.check_update_conditions` function will return a value of `True`, otherwise it will return a value of `False`.\n",
    "\n",
    "\n",
    "* **Lines 11 - 14**: If the `update` variable is `True` then we perform a learning update. The learning update consists of sampling a random mini-batch of experience tuples from our `memory_buffer`, setting the $y$ targets, performing gradient descent, and updating the weights of the networks. We will use the `agent_learn` function we defined in [Section 8](#8) to perform the latter 3.\n",
    "\n",
    "\n",
    "* **Line 15**: At the end of each iteration of the inner loop we set `next_state` as our new `state` so that the loop can start again from this new state. In addition, we check if the episode has reached a terminal state (i.e we check if `done = True`). If a terminal state has been reached, then we break out of the inner loop.\n",
    "\n",
    "\n",
    "* **Line 16**: At the end of each iteration of the outer loop we update the value of $\\epsilon$, and check if the environment has been solved. We consider that the environment has been solved if the agent receives an average of `200` points in the last `100` episodes. If the environment has not been solved we continue the outer loop and start a new episode.\n",
    "\n",
    "Finally, we wanted to note that we have included some extra variables to keep track of the total number of points the agent received in each episode. This will help us determine if the agent has solved the environment and it will also allow us to see how our agent performed during training. We also use the `time` module to measure how long the training takes. \n",
    "\n",
    "<br>\n",
    "<br>\n",
    "<figure>\n",
    "  <img src = \"images/deep_q_algorithm.png\" width = 90% style = \"border: thin silver solid; padding: 0px\">\n",
    "      <figcaption style = \"text-align: center; font-style: italic\">Fig 4. Deep Q-Learning with Experience Replay.</figcaption>\n",
    "</figure>\n",
    "<br>\n",
    "\n",
    "**Note:** With this notebook's default parameters, the following cell takes between 10 to 15 minutes to run. "
   ]
  },
  {
   "cell_type": "code",
   "execution_count": 25,
   "metadata": {
    "deletable": false,
    "editable": false
   },
   "outputs": [
    {
     "name": "stdout",
     "output_type": "stream",
     "text": [
      "Episode 100 | Total point average of the last 100 episodes: -132.04\n",
      "Episode 200 | Total point average of the last 100 episodes: -89.677\n",
      "Episode 300 | Total point average of the last 100 episodes: -45.00\n",
      "Episode 400 | Total point average of the last 100 episodes: 124.20\n",
      "Episode 455 | Total point average of the last 100 episodes: 200.05\n",
      "\n",
      "Environment solved in 455 episodes!\n",
      "\n",
      "Total Runtime: 511.90 s (8.53 min)\n"
     ]
    }
   ],
   "source": [
    "start = time.time()\n",
    "\n",
    "num_episodes = 2000\n",
    "max_num_timesteps = 1000\n",
    "\n",
    "total_point_history = []\n",
    "\n",
    "num_p_av = 100    # number of total points to use for averaging\n",
    "epsilon = 1.0     # initial ε value for ε-greedy policy\n",
    "\n",
    "# Create a memory buffer D with capacity N\n",
    "memory_buffer = deque(maxlen=MEMORY_SIZE)\n",
    "\n",
    "# Set the target network weights equal to the Q-Network weights\n",
    "target_q_network.set_weights(q_network.get_weights())\n",
    "\n",
    "for i in range(num_episodes):\n",
    "    \n",
    "    # Reset the environment to the initial state and get the initial state\n",
    "    state = env.reset()\n",
    "    total_points = 0\n",
    "    \n",
    "    for t in range(max_num_timesteps):\n",
    "        \n",
    "        # From the current state S choose an action A using an ε-greedy policy\n",
    "        state_qn = np.expand_dims(state, axis=0)  # state needs to be the right shape for the q_network\n",
    "        q_values = q_network(state_qn)\n",
    "        action = utils.get_action(q_values, epsilon)\n",
    "        \n",
    "        # Take action A and receive reward R and the next state S'\n",
    "        next_state, reward, done, _ = env.step(action)\n",
    "        \n",
    "        # Store experience tuple (S,A,R,S') in the memory buffer.\n",
    "        # We store the done variable as well for convenience.\n",
    "        memory_buffer.append(experience(state, action, reward, next_state, done))\n",
    "        \n",
    "        # Only update the network every NUM_STEPS_FOR_UPDATE time steps.\n",
    "        update = utils.check_update_conditions(t, NUM_STEPS_FOR_UPDATE, memory_buffer)\n",
    "        \n",
    "        if update:\n",
    "            # Sample random mini-batch of experience tuples (S,A,R,S') from D\n",
    "            experiences = utils.get_experiences(memory_buffer)\n",
    "            \n",
    "            # Set the y targets, perform a gradient descent step,\n",
    "            # and update the network weights.\n",
    "            agent_learn(experiences, GAMMA)\n",
    "        \n",
    "        state = next_state.copy()\n",
    "        total_points += reward\n",
    "        \n",
    "        if done:\n",
    "            break\n",
    "            \n",
    "    total_point_history.append(total_points)\n",
    "    av_latest_points = np.mean(total_point_history[-num_p_av:])\n",
    "    \n",
    "    # Update the ε value\n",
    "    epsilon = utils.get_new_eps(epsilon)\n",
    "\n",
    "    print(f\"\\rEpisode {i+1} | Total point average of the last {num_p_av} episodes: {av_latest_points:.2f}\", end=\"\")\n",
    "\n",
    "    if (i+1) % num_p_av == 0:\n",
    "        print(f\"\\rEpisode {i+1} | Total point average of the last {num_p_av} episodes: {av_latest_points:.2f}\")\n",
    "\n",
    "    # We will consider that the environment is solved if we get an\n",
    "    # average of 200 points in the last 100 episodes.\n",
    "    if av_latest_points >= 200.0:\n",
    "        print(f\"\\n\\nEnvironment solved in {i+1} episodes!\")\n",
    "        q_network.save('lunar_lander_model.h5')\n",
    "        break\n",
    "        \n",
    "tot_time = time.time() - start\n",
    "\n",
    "print(f\"\\nTotal Runtime: {tot_time:.2f} s ({(tot_time/60):.2f} min)\")"
   ]
  },
  {
   "cell_type": "markdown",
   "metadata": {},
   "source": [
    "We can plot the total point history along with the moving average to see how our agent improved during training. If you want to know about the different plotting options available in the `utils.plot_history` function we encourage you to take a look at the `utils` module."
   ]
  },
  {
   "cell_type": "code",
   "execution_count": 26,
   "metadata": {
    "deletable": false,
    "editable": false,
    "id": "E_EUXxurfe8m",
    "scrolled": false
   },
   "outputs": [
    {
     "data": {
      "image/png": "[encoded data removed]",
      "text/plain": [
       "<Figure size 720x504 with 1 Axes>"
      ]
     },
     "metadata": {},
     "output_type": "display_data"
    }
   ],
   "source": [
    "# Plot the total point history along with the moving average\n",
    "utils.plot_history(total_point_history)"
   ]
  },
  {
   "cell_type": "markdown",
   "metadata": {
    "id": "c_xwgaX5MnYt"
   },
   "source": [
    "<a name=\"10\"></a>\n",
    "## 10 - See the Trained Agent In Action\n",
    "\n",
    "Now that we have trained our agent, we can see it in action. We will use the `utils.create_video` function to create a video of our agent interacting with the environment using the trained $Q$-Network. The `utils.create_video` function uses the `imageio` library to create the video. This library produces some warnings that can be distracting, so, to suppress these warnings we run the code below."
   ]
  },
  {
   "cell_type": "code",
   "execution_count": 27,
   "metadata": {
    "deletable": false,
    "editable": false
   },
   "outputs": [],
   "source": [
    "# Suppress warnings from imageio\n",
    "import logging\n",
    "logging.getLogger().setLevel(logging.ERROR)"
   ]
  },
  {
   "cell_type": "markdown",
   "metadata": {},
   "source": [
    "In the cell below we create a video of our agent interacting with the Lunar Lander environment using the trained `q_network`. The video is saved to the `videos` folder with the given `filename`. We use the `utils.embed_mp4` function to embed the video in the Jupyter Notebook so that we can see it here directly without having to download it.\n",
    "\n",
    "We should note that since the lunar lander starts with a random initial force applied to its center of mass, every time you run the cell below you will see a different video. If the agent was trained properly, it should be able to land the lunar lander in the landing pad every time, regardless of the initial force applied to its center of mass."
   ]
  },
  {
   "cell_type": "code",
   "execution_count": 32,
   "metadata": {
    "deletable": false,
    "editable": false,
    "id": "3Ttb_zLeJKiG"
   },
   "outputs": [
    {
     "data": {
      "text/html": [
       "\n",
       "    <video width=\"840\" height=\"480\" controls>\n",
       "    <source src=\"data:video/mp4;base64,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\" type=\"video/mp4\">\n",
       "    Your browser does not support the video tag.\n",
       "    </video>"
      ],
      "text/plain": [
       "<IPython.core.display.HTML object>"
      ]
     },
     "execution_count": 32,
     "metadata": {},
     "output_type": "execute_result"
    }
   ],
   "source": [
    "filename = \"./videos/lunar_lander.mp4\"\n",
    "\n",
    "utils.create_video(filename, env, q_network)\n",
    "utils.embed_mp4(filename)"
   ]
  },
  {
   "cell_type": "markdown",
   "metadata": {},
   "source": [
    "<a name=\"11\"></a>\n",
    "## 11 - Congratulations!\n",
    "\n",
    "You have successfully used Deep Q-Learning with Experience Replay to train an agent to land a lunar lander safely on a landing pad on the surface of the moon. Congratulations!"
   ]
  },
  {
   "cell_type": "markdown",
   "metadata": {},
   "source": [
    "<a name=\"12\"></a>\n",
    "## 12 - References\n",
    "\n",
    "If you would like to learn more about Deep Q-Learning, we recommend you check out the following papers.\n",
    "\n",
    "\n",
    "* Mnih, V., Kavukcuoglu, K., Silver, D. et al. Human-level control through deep reinforcement learning. Nature 518, 529–533 (2015).\n",
    "\n",
    "\n",
    "* Lillicrap, T. P., Hunt, J. J., Pritzel, A., et al. Continuous Control with Deep Reinforcement Learning. ICLR (2016).\n",
    "\n",
    "\n",
    "* Mnih, V., Kavukcuoglu, K., Silver, D. et al. Playing Atari with Deep Reinforcement Learning. arXiv e-prints.  arXiv:1312.5602 (2013)."
   ]
  },
  {
   "cell_type": "markdown",
   "metadata": {},
   "source": [
    "<details>\n",
    "  <summary><font size=\"2\" color=\"darkgreen\"><b>Please click here if you want to experiment with any of the non-graded code.</b></font></summary>\n",
    "    <p><i><b>Important Note: Please only do this when you've already passed the assignment to avoid problems with the autograder.</b></i>\n",
    "    <ol>\n",
    "        <li> On the notebook’s menu, click “View” > “Cell Toolbar” > “Edit Metadata”</li>\n",
    "        <li> Hit the “Edit Metadata” button next to the code cell which you want to lock/unlock</li>\n",
    "        <li> Set the attribute value for “editable” to:\n",
    "            <ul>\n",
    "                <li> “true” if you want to unlock it </li>\n",
    "                <li> “false” if you want to lock it </li>\n",
    "            </ul>\n",
    "        </li>\n",
    "        <li> On the notebook’s menu, click “View” > “Cell Toolbar” > “None” </li>\n",
    "    </ol>\n",
    "    <p> Here's a short demo of how to do the steps above: \n",
    "        <br>\n",
    "        <img src=\"https://drive.google.com/uc?export=view&id=14Xy_Mb17CZVgzVAgq7NCjMVBvSae3xO1\" align=\"center\" alt=\"unlock_cells.gif\">\n",
    "</details>"
   ]
  }
 ],
 "metadata": {
  "accelerator": "GPU",
  "colab": {
   "collapsed_sections": [],
   "name": "TensorFlow - Lunar Lander.ipynb",
   "provenance": []
  },
  "kernelspec": {
   "display_name": "Python 3",
   "language": "python",
   "name": "python3"
  },
  "language_info": {
   "codemirror_mode": {
    "name": "ipython",
    "version": 3
   },
   "file_extension": ".py",
   "mimetype": "text/x-python",
   "name": "python",
   "nbconvert_exporter": "python",
   "pygments_lexer": "ipython3",
   "version": "3.7.6"
  }
 },
 "nbformat": 4,
 "nbformat_minor": 1
}
